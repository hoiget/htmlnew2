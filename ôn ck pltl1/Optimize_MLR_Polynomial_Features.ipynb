{
 "cells": [
  {
   "cell_type": "code",
   "execution_count": 1,
   "id": "304c1589",
   "metadata": {},
   "outputs": [],
   "source": [
    "import numpy as np \n",
    "import pandas as pd "
   ]
  },
  {
   "cell_type": "code",
   "execution_count": 2,
   "id": "f636130f",
   "metadata": {},
   "outputs": [
    {
     "name": "stdout",
     "output_type": "stream",
     "text": [
      "       gold  estate    cryto  stock class risk  profit\n",
      "0     14.96   41.76  1024.07  73.17     B    Y  463.26\n",
      "1     25.18   62.96  1020.04  59.08     B    N  444.37\n",
      "2      5.11   39.40  1012.16  92.14     B    N  488.56\n",
      "3     20.86   57.32  1010.24  76.64     B    Y  446.48\n",
      "4     10.82   37.50  1009.23  96.62     C    N  473.90\n",
      "...     ...     ...      ...    ...   ...  ...     ...\n",
      "9563  16.65   49.69  1014.01  91.00     C    N  460.03\n",
      "9564  13.19   39.18  1023.67  66.78     A    Y  469.62\n",
      "9565  31.32   74.33  1012.92  36.48     A    N  429.57\n",
      "9566  24.48   69.45  1013.86  62.39     A    N  435.74\n",
      "9567  21.60   62.52  1017.23  67.87     B    N  453.28\n",
      "\n",
      "[9568 rows x 7 columns]\n"
     ]
    }
   ],
   "source": [
    "df=pd.read_csv('profit_full.csv')\n",
    "print(df)"
   ]
  },
  {
   "cell_type": "code",
   "execution_count": 3,
   "id": "16e8f81f",
   "metadata": {},
   "outputs": [
    {
     "name": "stdout",
     "output_type": "stream",
     "text": [
      "<class 'pandas.core.frame.DataFrame'>\n",
      "RangeIndex: 9568 entries, 0 to 9567\n",
      "Data columns (total 7 columns):\n",
      " #   Column  Non-Null Count  Dtype  \n",
      "---  ------  --------------  -----  \n",
      " 0   gold    9568 non-null   float64\n",
      " 1   estate  9568 non-null   float64\n",
      " 2   cryto   9568 non-null   float64\n",
      " 3   stock   9568 non-null   float64\n",
      " 4   class   9568 non-null   object \n",
      " 5   risk    9568 non-null   object \n",
      " 6   profit  9568 non-null   float64\n",
      "dtypes: float64(5), object(2)\n",
      "memory usage: 523.4+ KB\n"
     ]
    }
   ],
   "source": [
    "df.info()"
   ]
  },
  {
   "cell_type": "code",
   "execution_count": 4,
   "id": "7cf72336",
   "metadata": {},
   "outputs": [
    {
     "name": "stdout",
     "output_type": "stream",
     "text": [
      "               gold       estate        cryto        stock class  risk  \\\n",
      "count   9568.000000  9568.000000  9568.000000  9568.000000  9568  9568   \n",
      "unique          NaN          NaN          NaN          NaN     3     2   \n",
      "top             NaN          NaN          NaN          NaN     C     N   \n",
      "freq            NaN          NaN          NaN          NaN  4433  4851   \n",
      "mean      19.651231    54.305804  1013.259078    73.308978   NaN   NaN   \n",
      "std        7.452473    12.707893     5.938784    14.600269   NaN   NaN   \n",
      "min        1.810000    25.360000   992.890000    25.560000   NaN   NaN   \n",
      "25%       13.510000    41.740000  1009.100000    63.327500   NaN   NaN   \n",
      "50%       20.345000    52.080000  1012.940000    74.975000   NaN   NaN   \n",
      "75%       25.720000    66.540000  1017.260000    84.830000   NaN   NaN   \n",
      "max       37.110000    81.560000  1033.300000   100.160000   NaN   NaN   \n",
      "\n",
      "             profit  \n",
      "count   9568.000000  \n",
      "unique          NaN  \n",
      "top             NaN  \n",
      "freq            NaN  \n",
      "mean     454.365009  \n",
      "std       17.066995  \n",
      "min      420.260000  \n",
      "25%      439.750000  \n",
      "50%      451.550000  \n",
      "75%      468.430000  \n",
      "max      495.760000  \n"
     ]
    }
   ],
   "source": [
    "print(df.describe(include='all'))"
   ]
  },
  {
   "cell_type": "code",
   "execution_count": 5,
   "id": "19f8777b",
   "metadata": {},
   "outputs": [],
   "source": [
    "X= df.iloc[:,:-1]\n",
    "y=df.iloc[:,-1]"
   ]
  },
  {
   "cell_type": "code",
   "execution_count": 6,
   "id": "f01932c5",
   "metadata": {},
   "outputs": [],
   "source": [
    "\n",
    "from sklearn.model_selection import train_test_split\n",
    "X_train, X_test, y_train, y_test = train_test_split (X, y, test_size=0.25, random_state=42)\n"
   ]
  },
  {
   "cell_type": "code",
   "execution_count": null,
   "id": "ed3ab3b7",
   "metadata": {},
   "outputs": [],
   "source": [
    "\n",
    "from sklearn.pipeline import Pipeline # For setting up pipeline\n",
    "# Various pre-processing steps\n",
    "from sklearn.preprocessing import Normalizer, StandardScaler, MinMaxScaler, PowerTransformer, PolynomialFeatures \n",
    "from sklearn.linear_model import LinearRegression\n",
    "# import lib\n",
    "from sklearn.compose import make_column_transformer\n",
    "# dummy encoding of categorical features\n",
    "from sklearn.preprocessing import OneHotEncoder\n",
    "#create a transformer for Sex and Embarked with OHE\n",
    "column_trans = make_column_transformer(\n",
    "                (OneHotEncoder(), ['class', 'risk']), \n",
    "                (Normalizer(), ['cryto', 'stock']),\n",
    "                remainder='passthrough')\n",
    "pipe=Pipeline(steps=[\n",
    "    ('columntransformer', column_trans),\n",
    "('std_scaler', StandardScaler()),\n",
    "('poly_fe', PolynomialFeatures (degree=4)),\n",
    "('power_fe', PowerTransformer (copy=True, method='yeo-johnson', standardize=True)),\n",
    "('mm_scaler', MinMaxScaler()),\n",
    "(\"mlr_model', LinearRegression())\n",
    "])"
   ]
  },
  {
   "cell_type": "code",
   "execution_count": 8,
   "id": "73793ced",
   "metadata": {},
   "outputs": [
    {
     "name": "stdout",
     "output_type": "stream",
     "text": [
      "Training set score:  0.9453205571358934\n",
      "Test set score:  0.9235329628452111\n"
     ]
    }
   ],
   "source": [
    "pipe.fit(X_train, y_train)\n",
    "print('Training set score: ', str(pipe.score(X_train, y_train)))\n",
    "print('Test set score: ', str(pipe.score(X_test, y_test)))"
   ]
  },
  {
   "cell_type": "code",
   "execution_count": 9,
   "id": "2932a3f3",
   "metadata": {},
   "outputs": [
    {
     "name": "stdout",
     "output_type": "stream",
     "text": [
      "dict_keys(['memory', 'steps', 'transform_input', 'verbose', 'columntransformer', 'std_scaler', 'poly_fe', 'power_fe', 'mm_scaler', 'mlr_model', 'columntransformer__force_int_remainder_cols', 'columntransformer__n_jobs', 'columntransformer__remainder', 'columntransformer__sparse_threshold', 'columntransformer__transformer_weights', 'columntransformer__transformers', 'columntransformer__verbose', 'columntransformer__verbose_feature_names_out', 'columntransformer__onehotencoder', 'columntransformer__normalizer', 'columntransformer__onehotencoder__categories', 'columntransformer__onehotencoder__drop', 'columntransformer__onehotencoder__dtype', 'columntransformer__onehotencoder__feature_name_combiner', 'columntransformer__onehotencoder__handle_unknown', 'columntransformer__onehotencoder__max_categories', 'columntransformer__onehotencoder__min_frequency', 'columntransformer__onehotencoder__sparse_output', 'columntransformer__normalizer__copy', 'columntransformer__normalizer__norm', 'std_scaler__copy', 'std_scaler__with_mean', 'std_scaler__with_std', 'poly_fe__degree', 'poly_fe__include_bias', 'poly_fe__interaction_only', 'poly_fe__order', 'power_fe__copy', 'power_fe__method', 'power_fe__standardize', 'mm_scaler__clip', 'mm_scaler__copy', 'mm_scaler__feature_range', 'mlr_model__copy_X', 'mlr_model__fit_intercept', 'mlr_model__n_jobs', 'mlr_model__positive'])\n"
     ]
    }
   ],
   "source": [
    "print(pipe.get_params().keys())"
   ]
  },
  {
   "cell_type": "code",
   "execution_count": 10,
   "id": "13b75181",
   "metadata": {},
   "outputs": [
    {
     "name": "stdout",
     "output_type": "stream",
     "text": [
      "{'memory': None, 'steps': [('columntransformer', ColumnTransformer(remainder='passthrough',\n",
      "                  transformers=[('onehotencoder', OneHotEncoder(),\n",
      "                                 ['class', 'risk']),\n",
      "                                ('normalizer', Normalizer(),\n",
      "                                 ['cryto', 'stock'])])), ('std_scaler', StandardScaler()), ('poly_fe', PolynomialFeatures(degree=4)), ('power_fe', PowerTransformer()), ('mm_scaler', MinMaxScaler()), ('mlr_model', LinearRegression())], 'transform_input': None, 'verbose': False, 'columntransformer': ColumnTransformer(remainder='passthrough',\n",
      "                  transformers=[('onehotencoder', OneHotEncoder(),\n",
      "                                 ['class', 'risk']),\n",
      "                                ('normalizer', Normalizer(),\n",
      "                                 ['cryto', 'stock'])]), 'std_scaler': StandardScaler(), 'poly_fe': PolynomialFeatures(degree=4), 'power_fe': PowerTransformer(), 'mm_scaler': MinMaxScaler(), 'mlr_model': LinearRegression(), 'columntransformer__force_int_remainder_cols': True, 'columntransformer__n_jobs': None, 'columntransformer__remainder': 'passthrough', 'columntransformer__sparse_threshold': 0.3, 'columntransformer__transformer_weights': None, 'columntransformer__transformers': [('onehotencoder', OneHotEncoder(), ['class', 'risk']), ('normalizer', Normalizer(), ['cryto', 'stock'])], 'columntransformer__verbose': False, 'columntransformer__verbose_feature_names_out': True, 'columntransformer__onehotencoder': OneHotEncoder(), 'columntransformer__normalizer': Normalizer(), 'columntransformer__onehotencoder__categories': 'auto', 'columntransformer__onehotencoder__drop': None, 'columntransformer__onehotencoder__dtype': <class 'numpy.float64'>, 'columntransformer__onehotencoder__feature_name_combiner': 'concat', 'columntransformer__onehotencoder__handle_unknown': 'error', 'columntransformer__onehotencoder__max_categories': None, 'columntransformer__onehotencoder__min_frequency': None, 'columntransformer__onehotencoder__sparse_output': True, 'columntransformer__normalizer__copy': True, 'columntransformer__normalizer__norm': 'l2', 'std_scaler__copy': True, 'std_scaler__with_mean': True, 'std_scaler__with_std': True, 'poly_fe__degree': 4, 'poly_fe__include_bias': True, 'poly_fe__interaction_only': False, 'poly_fe__order': 'C', 'power_fe__copy': True, 'power_fe__method': 'yeo-johnson', 'power_fe__standardize': True, 'mm_scaler__clip': False, 'mm_scaler__copy': True, 'mm_scaler__feature_range': (0, 1), 'mlr_model__copy_X': True, 'mlr_model__fit_intercept': True, 'mlr_model__n_jobs': None, 'mlr_model__positive': False}\n"
     ]
    }
   ],
   "source": [
    "print(pipe.get_params())"
   ]
  },
  {
   "cell_type": "code",
   "execution_count": 11,
   "id": "181c284a",
   "metadata": {},
   "outputs": [
    {
     "name": "stdout",
     "output_type": "stream",
     "text": [
      "-16845078174.235624\n",
      "[-7.63759215e+03  1.41443411e+05  1.20765327e+05 -5.50323586e+05\n",
      "  4.75545655e+04  2.94398633e+05  2.74393583e+09  2.12375397e+09\n",
      " -1.92049536e+06 -8.00377201e+06  3.72690143e+05 -6.70219665e+05\n",
      "  2.30948842e+05  5.69252351e+06 -5.90774476e+06  3.03041721e+08\n",
      " -9.32634867e+08 -5.54040398e+07 -3.70290726e+05  3.81645938e+05\n",
      "  1.30830229e+05 -2.81845031e+06  2.83976655e+06  1.49431967e+09\n",
      "  3.08885317e+09 -7.23497058e+07 -2.22493162e+07 -7.02972766e+05\n",
      " -4.15286536e+06  4.17777966e+06  2.70890118e+09  6.07493139e+08\n",
      " -5.17549921e+04  6.51786294e+06  4.19833358e+05 -4.46685780e+05\n",
      "  5.13918018e+08  5.89868063e+08  1.40446635e+06  2.01938209e+07\n",
      "  4.62850632e+05 -5.13933345e+08 -5.89871511e+08 -1.39649966e+06\n",
      " -2.09438481e+07  9.53706095e+05  2.37363638e+06  6.15120645e+03\n",
      " -2.78039882e+04  8.47227850e+05  4.26940244e+03 -1.76411018e+04\n",
      "  4.84686713e+02  6.19241696e+03  2.10674772e+03  2.89823452e+05\n",
      "  5.31990531e+04 -7.25659336e+05  3.71985028e+06 -3.72663164e+06\n",
      "  7.79629899e+08 -2.45674788e+09  6.53455161e+07 -5.15326477e+06\n",
      " -1.00643660e+05  6.75600270e+05 -3.15751519e+06  3.20481253e+06\n",
      "  8.01796978e+07 -1.50286097e+09 -7.76639929e+06  2.62288186e+07\n",
      "  4.09921159e+05 -4.06388129e+06  4.02645552e+06 -3.02619916e+08\n",
      "  2.96746735e+09 -1.02659068e+07  6.31273002e+05 -6.14996103e+04\n",
      "  1.46500489e+05  6.83777942e+08 -1.16825396e+09 -4.49486682e+05\n",
      " -3.88061896e+06 -6.76057670e+04 -6.83778432e+08  1.16824906e+09\n",
      "  4.56688673e+05  3.87001099e+06 -3.12588509e+06 -6.34689215e+07\n",
      "  1.28646674e+03 -6.44489387e+02  3.21092196e+07  6.83143826e+03\n",
      " -1.17405291e+03 -3.57226864e+02  3.64052193e+02  8.90621813e+03\n",
      "  4.05253113e+05 -6.21239353e+05 -1.86507166e+06  1.85828828e+06\n",
      " -2.34979167e+09 -8.42358093e+08 -9.09721539e+07 -6.16972593e+06\n",
      "  4.92903667e+05  4.99114787e+06 -4.96361318e+06 -4.67850896e+08\n",
      "  2.45364450e+09  4.09173414e+05 -4.36991967e+06  5.37699799e+05\n",
      " -5.77224051e+05 -1.32345078e+07 -2.00117887e+08 -1.91433318e+06\n",
      " -8.84184671e+06  5.77363506e+05  1.32635160e+07  2.00117454e+08\n",
      "  1.87844291e+06  8.28972405e+06 -3.08774551e+07 -1.38537639e+08\n",
      " -2.09630221e+03 -8.74646279e+02 -1.75851449e+08 -7.36956246e+03\n",
      " -1.29582015e+03  3.21893511e+04 -5.41295196e+02  1.32889435e+04\n",
      " -7.89398307e+05 -8.07980495e+05  8.85890424e+05 -6.99307451e+08\n",
      " -1.60904951e+09  1.91054772e+06  9.87939073e+06 -5.85587355e+05\n",
      "  5.80105477e+05 -1.68100650e+09 -3.95338207e+08  2.31369879e+06\n",
      " -9.88534628e+05 -5.94430910e+05  1.68100392e+09  3.95343113e+08\n",
      " -2.30901484e+06  1.01174303e+06  4.69641179e+08  1.45510120e+09\n",
      "  1.78648351e+04 -2.87503864e+03  1.31893978e+09  2.13479800e+04\n",
      " -1.11450519e+03  6.93446140e+04  2.84339427e+02  3.00331025e+04\n",
      " -4.49967810e+05  4.48651436e+05 -4.13654301e+08 -1.87001877e+07\n",
      "  3.24126646e+04  8.95516167e+05 -4.50201497e+05  4.13657119e+08\n",
      "  1.87069510e+07 -8.55597896e+04  1.51430221e+06  1.35497916e+07\n",
      "  3.48092436e+07  1.19890116e+08 -3.39536927e+09  3.29149224e+07\n",
      "  3.79994657e+07  4.82353032e+09  4.68440162e+06  6.50308466e+08\n",
      " -2.10210943e+08  4.49250812e+05 -4.13647801e+08 -1.87126760e+07\n",
      "  1.97066257e+04 -1.62372755e+04 -1.33227647e+07 -3.48479948e+07\n",
      "  1.19872254e+08 -3.39536849e+09 -3.29761991e+07  3.79757850e+07\n",
      "  4.82353158e+09  4.68421692e+06  6.50308516e+08 -2.10211170e+08\n",
      " -8.51860341e+05 -5.30288190e+07 -1.49510323e+03  8.15691468e+02\n",
      " -9.24586129e+07 -2.88978827e+03  1.64281609e+03  1.31483376e+02\n",
      "  1.80897368e+02  3.30036409e+02 -2.81033752e+07 -1.10969888e+03\n",
      "  3.80283699e+02  1.64834587e+02  1.92023236e+02  3.71566329e+02\n",
      " -6.61523116e+02 -1.43742527e+01  1.62559220e+01 -1.69436307e+03\n",
      "  2.89562732e+05 -4.76340626e+05 -4.85689824e+04  4.37669176e+06\n",
      " -4.39279397e+06 -2.63067329e+08 -4.66953791e+07 -4.22638977e+06\n",
      "  1.79145088e+06  6.00298295e+05  1.97672656e+05 -4.53777691e+06\n",
      "  4.58849477e+06  4.37464801e+08 -2.94624481e+08 -1.31057781e+07\n",
      " -1.16144596e+07  2.46144750e+05 -4.26192802e+06  4.27922918e+06\n",
      " -1.19771233e+09 -4.01849988e+09  6.22037532e+07  4.44951651e+06\n",
      "  6.73251018e+05 -6.14003277e+05  6.27539392e+07  1.68976743e+08\n",
      "  2.18874001e+06  5.48961455e+06  6.73243084e+05 -6.27520863e+07\n",
      " -1.68980524e+08 -2.19853590e+06 -7.34723687e+06 -1.12961462e+04\n",
      " -3.85652759e+04  6.56959359e+01  1.28248104e+03 -1.69280749e+02\n",
      " -1.18041936e+03  2.38242887e+03 -1.61430592e+02  1.06043576e+02\n",
      " -1.64374759e+02 -6.30595178e+05  1.50963158e+05  4.61815295e+06\n",
      " -4.62270643e+06 -5.07063873e+08 -7.45501056e+08 -1.64132943e+07\n",
      " -9.28651591e+06 -6.70874597e+05  1.53102828e+06 -1.60364698e+06\n",
      " -1.28195408e+09 -2.04087128e+08 -6.19707887e+06  1.22816688e+07\n",
      " -5.05101532e+05  5.15127621e+05  3.19502076e+09  1.02117613e+09\n",
      " -2.56875498e+06 -5.67376564e+06 -4.52794127e+05 -3.19504499e+09\n",
      " -1.02118046e+09  2.56113256e+06  7.46927911e+06 -2.02412948e+07\n",
      " -8.83551601e+07  7.41242713e+00  9.06987594e+02 -5.10542608e+07\n",
      "  2.63170089e+02 -8.97063104e+02  1.45807267e+04  7.24555894e+02\n",
      "  1.87936851e+04  1.28940053e+05  5.99381872e+06 -5.99444835e+06\n",
      "  8.54262676e+08 -7.92701706e+08  3.83199169e+07  1.23533714e+07\n",
      "  3.34358940e+05 -3.67196531e+05  8.93006222e+07  1.90073251e+08\n",
      "  2.56999845e+06 -2.48340655e+05  2.75346571e+05 -8.92996618e+07\n",
      " -1.90064552e+08 -2.74968699e+06  2.67577142e+05 -3.32357998e+06\n",
      " -3.43441081e+07  3.01652625e+03  3.54167833e+02  1.85060644e+07\n",
      "  5.65627995e+03  1.63285327e+03 -1.37436658e+03  1.98552474e+03\n",
      "  4.16561085e+03  5.70877205e+06 -5.75624444e+06  4.05402417e+08\n",
      " -1.69958227e+07 -3.17314985e+04 -2.43980084e+06  5.68693280e+06\n",
      " -4.05412595e+08  1.69959002e+07  2.83863941e+05 -4.04959224e+05\n",
      " -1.06334191e+07 -1.66337387e+07  8.88402001e+09  7.30895376e+08\n",
      " -6.21258448e+08 -2.05233500e+09  4.38108761e+08  1.94393327e+05\n",
      "  2.24355836e+09  4.09509652e+07 -5.72311525e+06  4.05383905e+08\n",
      " -1.70050039e+07 -4.01839622e+04  2.61902400e+06  1.06199108e+07\n",
      "  1.66283451e+07  8.88401302e+09  7.30906294e+08  6.21253377e+08\n",
      " -2.05234278e+09  4.38128288e+08  1.26603559e+05  2.24358650e+09\n",
      "  4.09702311e+07 -7.08884866e+07 -1.69300995e+07 -8.38272665e+02\n",
      "  7.05774399e+02 -2.52702187e+07  1.62645027e+03  8.49329561e+01\n",
      " -4.85299498e+02  4.66649728e+02 -3.38207607e+01 -1.47519686e+07\n",
      "  1.53084332e+03  1.62963308e+01  2.34952832e+01  3.44416880e+02\n",
      " -8.87408315e+01  2.02403882e+04  4.67673499e+02  5.30062395e+02\n",
      " -1.58057827e+04  4.05344344e+05 -1.30506251e+05 -2.30262174e+06\n",
      "  2.30212516e+06  5.28502646e+08 -2.58609702e+06  4.04978876e+06\n",
      " -4.04993962e+05  2.22994871e+05  1.04823488e+06 -1.04028780e+06\n",
      " -2.32269878e+08 -1.26584153e+09 -1.05047756e+08 -9.50757534e+06\n",
      "  3.49239141e+05 -3.64338932e+05 -3.53059803e+07  3.96267870e+06\n",
      "  2.83041540e+06 -1.80910595e+07  2.77496732e+05  3.53063574e+07\n",
      " -3.95539290e+06  1.42408818e+05  1.66566421e+07  2.76267416e+04\n",
      "  2.90546585e+04 -4.66334143e+02  3.84776924e+03  2.59512123e+04\n",
      " -1.45216380e+03  4.13038991e+03 -7.39023888e+00  1.79758772e+02\n",
      " -6.94606498e+00  9.70135462e+04 -2.59590566e+06  2.64339869e+06\n",
      "  8.87773653e+08 -4.80698162e+09  4.87898852e+07  2.06212638e+07\n",
      " -3.05178103e+05  2.91936002e+05 -1.64215398e+09 -8.02317700e+08\n",
      "  1.58983839e+05 -1.93809105e+07 -2.47267435e+05  1.64214719e+09\n",
      "  8.02304913e+08 -1.56888820e+05  2.14165379e+07 -3.97643037e+07\n",
      " -1.32031556e+08 -7.32459948e+02  1.16465281e+03 -1.77715033e+08\n",
      " -8.50525058e+03  1.70673023e+03  4.82545069e+04  1.73853693e+03\n",
      "  1.14590519e+04 -2.92521981e+06  2.92293389e+06  1.30057033e+08\n",
      "  8.55986450e+06 -3.95719215e+05  1.76623559e+06 -2.87118972e+06\n",
      " -1.30051998e+08 -8.56290634e+06  4.56164551e+05  4.53086188e+05\n",
      " -8.05058431e+06 -1.49987106e+07 -2.40235542e+08  2.03732813e+06\n",
      " -1.13119209e+07 -2.87657861e+06  4.64115925e+07  1.59312843e+04\n",
      "  3.37880664e+09  3.74339218e+07  2.90980952e+06  1.30059044e+08\n",
      "  8.55687828e+06  1.65091874e+05 -4.75813023e+05  8.04168987e+06\n",
      "  1.49892953e+07 -2.40242306e+08  2.04535310e+06  1.13032188e+07\n",
      " -2.88351792e+06  4.64277916e+07 -4.93093776e+04  3.37883610e+09\n",
      "  3.74503318e+07 -6.27539112e+07 -9.77236126e+06 -2.02609433e+03\n",
      "  7.36531312e+02 -9.82715593e+06 -8.28238677e+02  5.79628707e+02\n",
      " -4.91674880e+02  3.41331411e+02 -2.75319073e+02 -4.11477817e+06\n",
      "  2.40137090e+02  4.55525357e+02  3.92986048e+01  2.21633428e+02\n",
      " -3.18274608e+02  2.22139610e+04  4.49837220e+02  4.71069039e+02\n",
      " -1.36209396e+04 -8.18377368e+05 -3.73018037e+06  3.75251929e+06\n",
      " -2.59867331e+09  1.18547043e+09 -4.66723955e+06 -1.21500457e+07\n",
      " -5.92569543e+05  6.64778638e+05  1.69315314e+09 -3.69667419e+08\n",
      " -1.91174567e+06 -2.86067606e+07 -5.93882696e+05 -1.69316935e+09\n",
      "  3.69677708e+08  1.99835021e+06  2.92593991e+07 -1.19320007e+06\n",
      " -2.84739536e+06 -5.67276956e+03  1.70875346e+04 -1.10693012e+06\n",
      " -4.79908085e+03  1.50073292e+04 -1.55046442e+02 -3.19076116e+03\n",
      " -2.41079465e+03 -4.18404852e+06  4.14066196e+06  6.28654619e+08\n",
      " -1.78590294e+07  5.29767892e+06 -6.53413685e+05 -4.13444646e+06\n",
      " -6.28631275e+08  1.78357971e+07 -5.29380184e+06  1.58896579e+06\n",
      " -6.16683394e+06 -1.26135164e+07 -2.34344177e+09  3.03013398e+06\n",
      "  6.15274016e+06 -2.65742908e+09 -5.88910983e+05 -5.13499741e+07\n",
      " -7.24497820e+09  1.75589672e+08  4.14723284e+06  6.28695982e+08\n",
      " -1.78591012e+07  5.29850811e+06 -6.69016287e+05  6.81559236e+06\n",
      "  1.25838315e+07 -2.34344680e+09  3.03799351e+06 -6.15397122e+06\n",
      " -2.65743464e+09 -5.74998606e+05 -5.13990854e+07 -7.24495821e+09\n",
      "  1.75603306e+08 -5.56212751e+07 -2.57600422e+07 -1.50446559e+03\n",
      "  9.34545352e+02  1.94076692e+08 -3.52592502e+02  9.04012307e+02\n",
      " -1.45733828e+03  3.63112920e+02 -4.50932287e+01  3.90646726e+08\n",
      "  7.88991641e+03  3.92476635e+02 -1.16606480e+03  3.16273496e+02\n",
      " -6.27575151e+01  1.87419128e+04  3.19721159e+02  4.21919355e+02\n",
      " -1.89484365e+04  4.49009526e+05 -4.49965085e+05 -8.09342688e+08\n",
      " -1.10274542e+08 -4.28993594e+05 -4.39939413e+05  4.49009526e+05\n",
      "  8.09347936e+08  1.10287127e+08  4.34947697e+05  4.52028005e+05\n",
      "  5.10024296e+06  6.21096086e+06 -5.98181591e+08  3.90483411e+07\n",
      "  4.78189048e+05  5.05655364e+07  2.82166190e+07 -1.95559235e+06\n",
      "  1.08864019e+10  1.32714152e+09 -4.49965085e+05 -8.09353056e+08\n",
      " -1.10276592e+08 -4.17971058e+05 -4.37020930e+05 -1.51014354e+07\n",
      " -5.42924223e+06 -2.62875886e+08  7.80358411e+07  9.39583504e+05\n",
      "  1.00302551e+08  1.26701122e+07 -3.92200914e+06  2.19410355e+10\n",
      "  9.06937497e+08  6.50810801e+04 -3.85845735e+04 -7.56614525e+05\n",
      " -1.83159387e+09  6.12749308e+06 -3.69080396e+08 -6.58392656e+08\n",
      " -7.05534414e+05 -2.44672274e+09 -5.01303779e+08  7.11993391e+06\n",
      "  2.63594301e+09 -1.24643929e+09 -3.48877672e+08 -3.77619672e+09\n",
      "  1.28356971e+07  2.39241229e+06  5.83742699e+07  8.75914408e+08\n",
      "  1.39766494e+07  4.49009526e+05  8.09358958e+08  1.10281107e+08\n",
      "  4.29247109e+05  3.62481965e+05 -2.01756542e+07 -1.15877218e+07\n",
      "  3.35306146e+08  3.89974661e+07  4.76907336e+05  4.97372329e+07\n",
      " -1.55453111e+07 -1.96647339e+06  1.10546327e+10 -4.20203555e+08\n",
      "  4.90589595e+04 -3.80581570e+04 -7.56193470e+05 -1.83159408e+09\n",
      " -5.63143802e+06 -3.69079403e+08 -6.58393088e+08 -7.05586131e+05\n",
      " -2.44672271e+09 -5.01303820e+08 -7.09137580e+06  2.63593616e+09\n",
      " -1.24643914e+09 -3.48877750e+08 -3.77619665e+09  1.28356591e+07\n",
      "  2.39239583e+06  5.83742760e+07  8.75914403e+08  1.39765325e+07\n",
      " -4.46317975e+04 -3.15720894e+05 -1.82789482e+02 -6.08940730e+02\n",
      " -6.56419315e+05 -7.43911253e+02 -1.64271319e+03  5.41998769e+01\n",
      "  1.81976614e+02  3.30630270e+01 -5.35709882e+05 -1.17099244e+03\n",
      " -1.51559498e+03  1.08953482e+02  3.24343408e+02  6.96626807e+01\n",
      " -1.10051810e+02  6.09609848e+00  1.16672394e+02 -2.91565619e+02\n",
      " -1.55209682e+05 -6.07160330e+02 -3.61764557e+02  6.01292077e+01\n",
      "  1.80299698e+02  3.76328042e+01 -1.18288756e+02  2.40665435e+01\n",
      "  1.29038686e+02 -3.16612401e+02  3.85324468e+01  9.13053150e+00\n",
      "  5.13742018e+00 -7.39614731e+01 -5.11656797e+01]\n"
     ]
    }
   ],
   "source": [
    "print(pipe.named_steps['mlr_model'].intercept_)\n",
    "print(pipe.named_steps['mlr_model'].coef_)\n"
   ]
  },
  {
   "cell_type": "code",
   "execution_count": 12,
   "id": "fb950bce",
   "metadata": {},
   "outputs": [
    {
     "name": "stdout",
     "output_type": "stream",
     "text": [
      "[453.79 437.95 434.79 ... 456.44 471.41 448.77]\n"
     ]
    }
   ],
   "source": [
    "y_pred=pipe.predict(X_test)\n",
    "np.set_printoptions(precision=2)\n",
    "print(y_pred)"
   ]
  },
  {
   "cell_type": "code",
   "execution_count": 13,
   "id": "deb717e3",
   "metadata": {},
   "outputs": [
    {
     "name": "stdout",
     "output_type": "stream",
     "text": [
      "Score or R-Squared: 0.9235329628452111\n",
      "Mean Absolute Error: 3.322427067485541\n",
      "Root Mean Squared Error: 4.7146083020587595\n",
      "Mean Absolute Percentage Error: 0.0073243410709425555\n"
     ]
    }
   ],
   "source": [
    "\n",
    "import numpy as np\n",
    "from sklearn import metrics\n",
    "y_test_pred = pipe.predict(X_test)\n",
    "print('Score or R-Squared:', pipe.score (X_test, y_test))\n",
    "print('Mean Absolute Error:',\n",
    "    metrics.mean_absolute_error(y_test, y_test_pred))\n",
    "print('Root Mean Squared Error:',\n",
    "    np.sqrt(metrics.mean_squared_error(y_test, y_test_pred)))\n",
    "print('Mean Absolute Percentage Error:',\n",
    "    metrics.mean_absolute_percentage_error(y_test, y_test_pred))"
   ]
  },
  {
   "cell_type": "code",
   "execution_count": 19,
   "id": "45f88886",
   "metadata": {},
   "outputs": [
    {
     "name": "stderr",
     "output_type": "stream",
     "text": [
      "c:\\Users\\HKP\\AppData\\Local\\Programs\\Python\\Python313\\Lib\\site-packages\\sklearn\\model_selection\\_validation.py:528: FitFailedWarning: \n",
      "5 fits failed out of a total of 10.\n",
      "The score on these train-test partitions for these parameters will be set to nan.\n",
      "If these failures are not expected, you can try to debug them by setting error_score='raise'.\n",
      "\n",
      "Below are more details about the failures:\n",
      "--------------------------------------------------------------------------------\n",
      "5 fits failed with the following error:\n",
      "Traceback (most recent call last):\n",
      "  File \"c:\\Users\\HKP\\AppData\\Local\\Programs\\Python\\Python313\\Lib\\site-packages\\sklearn\\model_selection\\_validation.py\", line 866, in _fit_and_score\n",
      "    estimator.fit(X_train, y_train, **fit_params)\n",
      "    ~~~~~~~~~~~~~^^^^^^^^^^^^^^^^^^^^^^^^^^^^^^^^\n",
      "  File \"c:\\Users\\HKP\\AppData\\Local\\Programs\\Python\\Python313\\Lib\\site-packages\\sklearn\\base.py\", line 1389, in wrapper\n",
      "    return fit_method(estimator, *args, **kwargs)\n",
      "  File \"c:\\Users\\HKP\\AppData\\Local\\Programs\\Python\\Python313\\Lib\\site-packages\\sklearn\\pipeline.py\", line 660, in fit\n",
      "    self._final_estimator.fit(Xt, y, **last_step_params[\"fit\"])\n",
      "    ~~~~~~~~~~~~~~~~~~~~~~~~~^^^^^^^^^^^^^^^^^^^^^^^^^^^^^^^^^^\n",
      "  File \"c:\\Users\\HKP\\AppData\\Local\\Programs\\Python\\Python313\\Lib\\site-packages\\sklearn\\base.py\", line 1389, in wrapper\n",
      "    return fit_method(estimator, *args, **kwargs)\n",
      "  File \"c:\\Users\\HKP\\AppData\\Local\\Programs\\Python\\Python313\\Lib\\site-packages\\sklearn\\linear_model\\_base.py\", line 640, in fit\n",
      "    self.coef_ = optimize.nnls(X, y)[0]\n",
      "                 ~~~~~~~~~~~~~^^^^^^\n",
      "  File \"c:\\Users\\HKP\\AppData\\Local\\Programs\\Python\\Python313\\Lib\\site-packages\\scipy\\optimize\\_nnls.py\", line 93, in nnls\n",
      "    raise RuntimeError(\"Maximum number of iterations reached.\")\n",
      "RuntimeError: Maximum number of iterations reached.\n",
      "\n",
      "  warnings.warn(some_fits_failed_message, FitFailedWarning)\n",
      "c:\\Users\\HKP\\AppData\\Local\\Programs\\Python\\Python313\\Lib\\site-packages\\sklearn\\model_selection\\_search.py:1107: UserWarning: One or more of the test scores are non-finite: [0.92  nan]\n",
      "  warnings.warn(\n"
     ]
    },
    {
     "name": "stdout",
     "output_type": "stream",
     "text": [
      "Best Hyperparameters: {'mlr_model__positive': False, 'mlr_model__n_jobs': 5, 'mlr_model__fit_intercept': False, 'mlr_model__copy_X': True}\n",
      "Best Score: 0.9215573977145499\n"
     ]
    }
   ],
   "source": [
    "from sklearn.model_selection import RandomizedSearchCV\n",
    "\n",
    "param_space = {\n",
    "    'mlr_model__copy_X': [True, False],\n",
    "    'mlr_model__fit_intercept': [True, False],\n",
    "    'mlr_model__n_jobs': [1, 5],\n",
    "    'mlr_model__positive': [True, False]\n",
    "}\n",
    "\n",
    "random_search = RandomizedSearchCV(pipe, param_space, n_iter=2, cv=5)\n",
    "random_search.fit(X_train, y_train)\n",
    "\n",
    "print(f'Best Hyperparameters: {random_search.best_params_}')\n",
    "print(f'Best Score: {random_search.best_score_}\")\n",
    "\n"
   ]
  },
  {
   "cell_type": "code",
   "execution_count": 21,
   "id": "386144b9",
   "metadata": {},
   "outputs": [
    {
     "name": "stdout",
     "output_type": "stream",
     "text": [
      "Score or R-Squared on training dataset: 0.9451733768402224\n",
      "Score or R-Squared on test dataset: 0.8912358287169477\n",
      "Mean Absolute Error: 3.35537322227491\n",
      "Root Mean Squared Error: 5.622784159547204\n",
      "Mean Absolute Percentage Error: 0.0074031581123708\n"
     ]
    }
   ],
   "source": [
    "\n",
    "best_params = {\n",
    "'mlr_model__copy_X': True, 'mlr_model__fit_intercept': False,\n",
    "'mlr_model__n_jobs': 1, 'mlr_model__positive': False}\n",
    "\n",
    "pipe.set_params(**best_params)\n",
    "\n",
    "pipe.fit(X_train,y_train)\n",
    "print('Score or R-Squared on training dataset:', pipe.score (X_train, y_train))\n",
    "\n",
    "y_test_pred = pipe.predict(X_test)\n",
    "\n",
    "print('Score or R-Squared on test dataset:', pipe.score (X_test, y_test))\n",
    "\n",
    "print('Mean Absolute Error:',\n",
    "    metrics.mean_absolute_error(y_test, y_test_pred))\n",
    "print('Root Mean Squared Error:',\n",
    "    np.sqrt(metrics.mean_squared_error(y_test, y_test_pred)))\n",
    "print('Mean Absolute Percentage Error:',\n",
    "    metrics.mean_absolute_percentage_error(y_test, y_test_pred))"
   ]
  },
  {
   "cell_type": "code",
   "execution_count": 23,
   "id": "6cf178a0",
   "metadata": {},
   "outputs": [
    {
     "name": "stdout",
     "output_type": "stream",
     "text": [
      "Predicted profit: [473.36]\n"
     ]
    }
   ],
   "source": [
    "# Xây dựng ứng dụng dự báo profit\n",
    "\n",
    "#gold=10.82 estate=37.50 cryto=1009.23 stock=96.62 class=A risk=Y.\n",
    "\n",
    "inputdf=pd.DataFrame ([[10.82, 37.50, 1009.23,96.62, 'A' ,'Y' ]],columns=[ 'gold', 'estate', 'cryto','stock','class' ,'risk'])\n",
    "predicted_value = pipe.predict(inputdf)\n",
    "\n",
    "print(\"Predicted profit:\",predicted_value)\n",
    "\n"
   ]
  }
 ],
 "metadata": {
  "kernelspec": {
   "display_name": "Python 3",
   "language": "python",
   "name": "python3"
  },
  "language_info": {
   "codemirror_mode": {
    "name": "ipython",
    "version": 3
   },
   "file_extension": ".py",
   "mimetype": "text/x-python",
   "name": "python",
   "nbconvert_exporter": "python",
   "pygments_lexer": "ipython3",
   "version": "3.13.1"
  }
 },
 "nbformat": 4,
 "nbformat_minor": 5
}
